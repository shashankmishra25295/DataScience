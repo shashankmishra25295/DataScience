{
 "cells": [
  {
   "cell_type": "code",
   "execution_count": 1,
   "metadata": {},
   "outputs": [],
   "source": [
    "#inialization set up\n",
    "import numpy as np\n",
    "import pandas as pd\n",
    "import matplotlib.pyplot as plt\n",
    "import seaborn as sns"
   ]
  },
  {
   "cell_type": "code",
   "execution_count": 2,
   "metadata": {},
   "outputs": [],
   "source": [
    "bank_df=pd.read_csv('bank-additional-full.csv',sep=';')"
   ]
  },
  {
   "cell_type": "code",
   "execution_count": 3,
   "metadata": {},
   "outputs": [],
   "source": [
    "bank_df['job'].replace(to_replace='unknown',value='admin.',inplace=True)\n",
    "bank_df['marital'].replace(to_replace='unknown',value='married',inplace=True)\n",
    "bank_df['education'].replace(to_replace='unknown',value='university.degree',inplace=True)\n",
    "bank_df['default'].replace(to_replace='unknown',value='no',inplace=True)\n",
    "bank_df['housing'].replace(to_replace='unknown',value='yes',inplace=True)\n",
    "bank_df['loan'].replace(to_replace='unknown',value='no',inplace=True)\n",
    "bank_df['contact'].replace(to_replace='unknown',value=bank_df['contact'].mode(),inplace=True)\n",
    "bank_df['month'].replace(to_replace='unknown',value=bank_df['month'].mode(),inplace=True)\n",
    "bank_df['day_of_week'].replace(to_replace='unknown',value=bank_df['day_of_week'].mode(),inplace=True)\n",
    "bank_df['poutcome'].replace(to_replace='unknown',value=bank_df['poutcome'].mode(),inplace=True)"
   ]
  },
  {
   "cell_type": "code",
   "execution_count": 4,
   "metadata": {},
   "outputs": [],
   "source": [
    "from sklearn.preprocessing import LabelEncoder\n",
    "lablel_encoder = LabelEncoder()\n",
    "bank_df['job'] = lablel_encoder.fit_transform(bank_df['job'])\n",
    "bank_df['marital'] = lablel_encoder.fit_transform(bank_df['marital'])\n",
    "bank_df['education'] = lablel_encoder.fit_transform(bank_df['education'])\n",
    "bank_df['housing'] = lablel_encoder.fit_transform(bank_df['housing'])\n",
    "bank_df['contact'] = lablel_encoder.fit_transform(bank_df['contact'])\n",
    "bank_df['month'] = lablel_encoder.fit_transform(bank_df['month'])\n",
    "bank_df['day_of_week'] = lablel_encoder.fit_transform(bank_df['day_of_week'])\n",
    "# some more preprosesing\n",
    "bank_df['default'] = lablel_encoder.fit_transform(bank_df['default'])\n",
    "bank_df['loan'] = lablel_encoder.fit_transform(bank_df['loan'])\n",
    "bank_df['poutcome'] = lablel_encoder.fit_transform(bank_df['poutcome'])\n",
    "bank_df['y'] = lablel_encoder.fit_transform(bank_df['y'])"
   ]
  },
  {
   "cell_type": "code",
   "execution_count": 5,
   "metadata": {},
   "outputs": [],
   "source": [
    "X=bank_df.iloc[:,0:20]\n",
    "Y=bank_df.iloc[:,20]"
   ]
  },
  {
   "cell_type": "code",
   "execution_count": 7,
   "metadata": {},
   "outputs": [],
   "source": [
    "X.drop(['duration'],inplace=True,axis=1)"
   ]
  },
  {
   "cell_type": "code",
   "execution_count": 11,
   "metadata": {},
   "outputs": [
    {
     "data": {
      "text/plain": [
       "(41188, 19)"
      ]
     },
     "execution_count": 11,
     "metadata": {},
     "output_type": "execute_result"
    }
   ],
   "source": [
    "X.shape"
   ]
  },
  {
   "cell_type": "code",
   "execution_count": 12,
   "metadata": {},
   "outputs": [
    {
     "data": {
      "text/plain": [
       "(41188,)"
      ]
     },
     "execution_count": 12,
     "metadata": {},
     "output_type": "execute_result"
    }
   ],
   "source": [
    "Y.shape"
   ]
  },
  {
   "cell_type": "code",
   "execution_count": 10,
   "metadata": {},
   "outputs": [],
   "source": [
    "from sklearn.model_selection import train_test_split\n",
    "X_train_stratify, X_test_stratify, y_train_stratify, y_test_stratify = train_test_split(X,Y, test_size=0.2, random_state=42,stratify=Y)"
   ]
  },
  {
   "cell_type": "code",
   "execution_count": null,
   "metadata": {},
   "outputs": [],
   "source": []
  },
  {
   "cell_type": "code",
   "execution_count": null,
   "metadata": {},
   "outputs": [],
   "source": [
    "nof_list=[1,2,3,4,5,6,7,8,9,10,11,12,13,14,15,16,17,18,19]\n",
    "\n",
    "#Variable to store the highest score\n",
    "high_score=0\n",
    "previous_high_score = 0\n",
    "\n",
    "#Variable to store the optimum features\n",
    "nof=0\n",
    "\n",
    "for n in nof_list:\n",
    "    rfe = RFE(model,n)\n",
    "    X_train_rfe = rfe.fit_transform(X_train,y_train)\n",
    "    X_test_rfe = rfe.transform(X_test)\n",
    "    model.fit(X_train_rfe,y_train)\n",
    "    '''\n",
    "    previous_high_score = model.score(X_test_rfe,y_test)\n",
    "    if previous_high_score > high_score:\n",
    "        high_score = previous_high_score\n",
    "        nof = n\n",
    "    '''\n",
    "    y_pred = model.predict(X_test_rfe)\n",
    "    f1 = f1_score(y_test,y_pred)\n",
    "    previous_high_score = model.score(X_test_rfe,y_test)\n",
    "    if previous_high_score > high_score:\n",
    "        high_score = previous_high_score\n",
    "        nof = n\n",
    "\n",
    "print(nof,high_score)\n"
   ]
  }
 ],
 "metadata": {
  "kernelspec": {
   "display_name": "Python 3",
   "language": "python",
   "name": "python3"
  },
  "language_info": {
   "codemirror_mode": {
    "name": "ipython",
    "version": 3
   },
   "file_extension": ".py",
   "mimetype": "text/x-python",
   "name": "python",
   "nbconvert_exporter": "python",
   "pygments_lexer": "ipython3",
   "version": "3.6.5"
  }
 },
 "nbformat": 4,
 "nbformat_minor": 2
}
