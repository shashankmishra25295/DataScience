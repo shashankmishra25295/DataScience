{
 "cells": [
  {
   "cell_type": "code",
   "execution_count": 15,
   "metadata": {},
   "outputs": [],
   "source": [
    "#inialization set up\n",
    "import numpy as np\n",
    "import pandas as pd\n",
    "import matplotlib.pyplot as plt\n",
    "import seaborn as sns"
   ]
  },
  {
   "cell_type": "code",
   "execution_count": 16,
   "metadata": {},
   "outputs": [],
   "source": [
    "bank_df=pd.read_csv('bank-additional-full.csv',sep=';')"
   ]
  },
  {
   "cell_type": "code",
   "execution_count": 17,
   "metadata": {},
   "outputs": [],
   "source": [
    "bank_df['job'].replace(to_replace='unknown',value='admin.',inplace=True)\n",
    "bank_df['marital'].replace(to_replace='unknown',value='married',inplace=True)\n",
    "bank_df['education'].replace(to_replace='unknown',value='university.degree',inplace=True)\n",
    "bank_df['default'].replace(to_replace='unknown',value='no',inplace=True)\n",
    "bank_df['housing'].replace(to_replace='unknown',value='yes',inplace=True)\n",
    "bank_df['loan'].replace(to_replace='unknown',value='no',inplace=True)\n",
    "bank_df['contact'].replace(to_replace='unknown',value=bank_df['contact'].mode(),inplace=True)\n",
    "bank_df['month'].replace(to_replace='unknown',value=bank_df['month'].mode(),inplace=True)\n",
    "bank_df['day_of_week'].replace(to_replace='unknown',value=bank_df['day_of_week'].mode(),inplace=True)\n",
    "bank_df['poutcome'].replace(to_replace='unknown',value=bank_df['poutcome'].mode(),inplace=True)"
   ]
  },
  {
   "cell_type": "code",
   "execution_count": 18,
   "metadata": {},
   "outputs": [],
   "source": [
    "from sklearn.preprocessing import LabelEncoder\n",
    "lablel_encoder = LabelEncoder()\n",
    "bank_df['job'] = lablel_encoder.fit_transform(bank_df['job'])\n",
    "bank_df['marital'] = lablel_encoder.fit_transform(bank_df['marital'])\n",
    "bank_df['education'] = lablel_encoder.fit_transform(bank_df['education'])\n",
    "bank_df['housing'] = lablel_encoder.fit_transform(bank_df['housing'])\n",
    "bank_df['contact'] = lablel_encoder.fit_transform(bank_df['contact'])\n",
    "bank_df['month'] = lablel_encoder.fit_transform(bank_df['month'])\n",
    "bank_df['day_of_week'] = lablel_encoder.fit_transform(bank_df['day_of_week'])\n",
    "# some more preprosesing\n",
    "bank_df['default'] = lablel_encoder.fit_transform(bank_df['default'])\n",
    "bank_df['loan'] = lablel_encoder.fit_transform(bank_df['loan'])\n",
    "bank_df['poutcome'] = lablel_encoder.fit_transform(bank_df['poutcome'])\n",
    "bank_df['y'] = lablel_encoder.fit_transform(bank_df['y'])"
   ]
  },
  {
   "cell_type": "code",
   "execution_count": 19,
   "metadata": {},
   "outputs": [],
   "source": [
    "X=bank_df.iloc[:,0:20]\n",
    "Y=bank_df.iloc[:,20]"
   ]
  },
  {
   "cell_type": "code",
   "execution_count": 23,
   "metadata": {},
   "outputs": [
    {
     "data": {
      "text/plain": [
       "(41188, 19)"
      ]
     },
     "execution_count": 23,
     "metadata": {},
     "output_type": "execute_result"
    }
   ],
   "source": [
    "X.shape"
   ]
  },
  {
   "cell_type": "code",
   "execution_count": 24,
   "metadata": {},
   "outputs": [
    {
     "data": {
      "text/plain": [
       "(41188,)"
      ]
     },
     "execution_count": 24,
     "metadata": {},
     "output_type": "execute_result"
    }
   ],
   "source": [
    "Y.shape"
   ]
  },
  {
   "cell_type": "code",
   "execution_count": 22,
   "metadata": {},
   "outputs": [],
   "source": [
    "X.drop(['duration'],inplace=True,axis=1)"
   ]
  },
  {
   "cell_type": "code",
   "execution_count": 25,
   "metadata": {},
   "outputs": [
    {
     "data": {
      "text/plain": [
       "<matplotlib.axes._subplots.AxesSubplot at 0x19529555cc0>"
      ]
     },
     "execution_count": 25,
     "metadata": {},
     "output_type": "execute_result"
    },
    {
     "data": {
      "image/png": "[encoded data removed]",
      "text/plain": [
       "<Figure size 432x288 with 1 Axes>"
      ]
     },
     "metadata": {},
     "output_type": "display_data"
    }
   ],
   "source": [
    "from imblearn.over_sampling import SMOTE\n",
    "\n",
    "smote = SMOTE(random_state=9, kind=\"borderline2\")\n",
    "X_sample6, y_sample6 = smote.fit_sample(X,Y)\n",
    "sns.countplot(y_sample6)"
   ]
  },
  {
   "cell_type": "code",
   "execution_count": 34,
   "metadata": {},
   "outputs": [
    {
     "name": "stderr",
     "output_type": "stream",
     "text": [
      "C:\\Users\\Aakash\\Anaconda3\\lib\\site-packages\\sklearn\\ensemble\\forest.py:246: FutureWarning: The default value of n_estimators will change from 10 in version 0.20 to 100 in 0.22.\n",
      "  \"10 in version 0.20 to 100 in 0.22.\", FutureWarning)\n"
     ]
    },
    {
     "name": "stdout",
     "output_type": "stream",
     "text": [
      "0.9644970414201184\n",
      "0.8782327586206896\n",
      "0.9370643957262135\n",
      "[[7280   30]\n",
      " [ 113  815]]\n",
      "0.919345741680767\n"
     ]
    }
   ],
   "source": [
    "from sklearn.ensemble import RandomForestClassifier\n",
    "from sklearn.metrics import precision_score, recall_score, roc_auc_score\n",
    "from sklearn.metrics import confusion_matrix\n",
    "from sklearn.metrics import f1_score\n",
    "rf6 = RandomForestClassifier(random_state=9)\n",
    "rf6.fit(X_sample6, y_sample6)\n",
    "f1_score(y_test_stratify, rf6.predict(X_test_stratify))\n",
    "print(precision_score(y_test_stratify, rf6.predict(X_test_stratify)))\n",
    "print(recall_score(y_test_stratify, rf6.predict(X_test_stratify)))\n",
    "print(roc_auc_score(y_test_stratify, rf6.predict(X_test_stratify)))\n",
    "print(confusion_matrix(y_test_stratify, rf6.predict(X_test_stratify)))\n",
    "print(f1_score(y_test_stratify, rf6.predict(X_test_stratify)))"
   ]
  },
  {
   "cell_type": "code",
   "execution_count": null,
   "metadata": {},
   "outputs": [],
   "source": [
    "from sklearn.ensemble import RandomForestClassifier\n",
    "from sklearn.metrics import precision_score, recall_score, roc_auc_score\n",
    "from sklearn.metrics import confusion_matrix\n",
    "from sklearn.metrics import f1_score\n",
    "rf7 = RandomForestClassifier(random_state=9)\n",
    "rf7.fit(X_sample6, y_sample6)\n",
    "y_pred=rf7.predict(X_test_stratify)\n",
    "Auc_score=roc_auc_score(y_test_stratify,y_pred)"
   ]
  },
  {
   "cell_type": "code",
   "execution_count": 36,
   "metadata": {},
   "outputs": [],
   "source": [
    "from sklearn import metrics\n",
    "fpr, tpr, thresholds = metrics.roc_curve(y_test_stratify, rf6.predict(X_test_stratify), pos_label=1)\n",
    "roc_auc=metrics.auc(fpr, tpr)"
   ]
  },
  {
   "cell_type": "code",
   "execution_count": 37,
   "metadata": {},
   "outputs": [
    {
     "data": {
      "image/png": "[encoded data removed]",
      "text/plain": [
       "<Figure size 432x288 with 1 Axes>"
      ]
     },
     "metadata": {},
     "output_type": "display_data"
    }
   ],
   "source": [
    "plt.title('Receiver Operating Characteristic')\n",
    "plt.plot(fpr, tpr, 'b', label = 'AUC = %0.2f' % roc_auc)\n",
    "plt.legend(loc = 'lower right')\n",
    "plt.plot([0, 1], [0, 1],'r--')\n",
    "plt.xlim([0, 1])\n",
    "plt.ylim([0, 1])\n",
    "plt.ylabel('True Positive Rate')\n",
    "plt.xlabel('False Positive Rate')\n",
    "plt.show()"
   ]
  },
  {
   "cell_type": "code",
   "execution_count": 11,
   "metadata": {},
   "outputs": [
    {
     "name": "stderr",
     "output_type": "stream",
     "text": [
      "C:\\Users\\Aakash\\Anaconda3\\lib\\site-packages\\ipykernel_launcher.py:1: SettingWithCopyWarning: \n",
      "A value is trying to be set on a copy of a slice from a DataFrame\n",
      "\n",
      "See the caveats in the documentation: http://pandas.pydata.org/pandas-docs/stable/indexing.html#indexing-view-versus-copy\n",
      "  \"\"\"Entry point for launching an IPython kernel.\n"
     ]
    }
   ],
   "source": [
    "Y['target']=y_sample6"
   ]
  },
  {
   "cell_type": "code",
   "execution_count": 26,
   "metadata": {},
   "outputs": [],
   "source": [
    "from sklearn.model_selection import train_test_split\n",
    "X_train_stratify, X_test_stratify, y_train_stratify, y_test_stratify = train_test_split(X,Y, test_size=0.2, random_state=42,stratify=Y)"
   ]
  },
  {
   "cell_type": "code",
   "execution_count": 35,
   "metadata": {},
   "outputs": [],
   "source": [
    "import dill\n",
    "dill.dump_session('notebook_env.db')"
   ]
  },
  {
   "cell_type": "code",
   "execution_count": 9,
   "metadata": {},
   "outputs": [
    {
     "data": {
      "text/plain": [
       "RandomForestClassifier(bootstrap=True, class_weight=None, criterion='gini',\n",
       "            max_depth=None, max_features='auto', max_leaf_nodes=None,\n",
       "            min_impurity_decrease=0.0, min_impurity_split=None,\n",
       "            min_samples_leaf=1, min_samples_split=2,\n",
       "            min_weight_fraction_leaf=0.0, n_estimators=100, n_jobs=-1,\n",
       "            oob_score=False, random_state=5, verbose=0, warm_start=False)"
      ]
     },
     "execution_count": 9,
     "metadata": {},
     "output_type": "execute_result"
    }
   ],
   "source": [
    "from sklearn.ensemble import RandomForestClassifier\n",
    "clf_stratify = RandomForestClassifier(n_estimators=100, random_state=5, n_jobs=-1)\n",
    "clf_stratify.fit(X_train_stratify, y_train_stratify)"
   ]
  },
  {
   "cell_type": "code",
   "execution_count": 10,
   "metadata": {},
   "outputs": [
    {
     "data": {
      "image/png": "[encoded data removed]",
      "text/plain": [
       "<Figure size 432x288 with 1 Axes>"
      ]
     },
     "metadata": {},
     "output_type": "display_data"
    }
   ],
   "source": [
    "feat_importances = pd.Series(clf_stratify.feature_importances_, index=X_train_stratify.columns)\n",
    "feat_importances.nlargest(15).plot(kind='barh')\n",
    "plt.show()"
   ]
  },
  {
   "cell_type": "code",
   "execution_count": 41,
   "metadata": {},
   "outputs": [],
   "source": [
    "X_train=X.copy()"
   ]
  },
  {
   "cell_type": "code",
   "execution_count": 42,
   "metadata": {},
   "outputs": [],
   "source": [
    "X_feature_selection=X_train[['age','poutcome','housing','marital','pdays','nr.employed','day_of_week','education','job','campaign','euribor3m']]"
   ]
  },
  {
   "cell_type": "code",
   "execution_count": 36,
   "metadata": {},
   "outputs": [
    {
     "name": "stdout",
     "output_type": "stream",
     "text": [
      "0.896091284292304\n",
      "0.5737704918032787\n",
      "0.3017241379310345\n",
      "0.39548022598870053\n",
      "[[7102  208]\n",
      " [ 648  280]]\n"
     ]
    }
   ],
   "source": [
    "from sklearn.metrics import f1_score, confusion_matrix\n",
    "from sklearn.metrics import precision_score, recall_score\n",
    "from sklearn.metrics import roc_auc_score\n",
    "y_pred = clf_stratify.predict(X_test_stratify)\n",
    "\n",
    "accuracy = clf_stratify.score(X_test_stratify,y_test_stratify)\n",
    "\n",
    "print(accuracy)\n",
    "\n",
    "precision = precision_score(y_test_stratify,y_pred)\n",
    "\n",
    "print(precision)\n",
    "\n",
    "recall = recall_score(y_test_stratify,y_pred)\n",
    "\n",
    "print(recall)\n",
    "\n",
    "f1 = f1_score(y_test_stratify,y_pred)\n",
    "\n",
    "print(f1)\n",
    "\n",
    "confusion_mat = confusion_matrix(y_test_stratify,y_pred)\n",
    "\n",
    "print(confusion_mat)\n"
   ]
  },
  {
   "cell_type": "code",
   "execution_count": 37,
   "metadata": {},
   "outputs": [],
   "source": [
    "from sklearn import metrics\n",
    "fpr, tpr, thresholds = metrics.roc_curve(y_test_stratify, y_pred, pos_label=1)\n",
    "roc_auc=metrics.auc(fpr, tpr)"
   ]
  },
  {
   "cell_type": "code",
   "execution_count": 38,
   "metadata": {},
   "outputs": [
    {
     "data": {
      "image/png": "[encoded data removed]",
      "text/plain": [
       "<Figure size 432x288 with 1 Axes>"
      ]
     },
     "metadata": {},
     "output_type": "display_data"
    }
   ],
   "source": [
    "plt.title('Receiver Operating Characteristic')\n",
    "plt.plot(fpr, tpr, 'b', label = 'AUC = %0.2f' % roc_auc)\n",
    "plt.legend(loc = 'lower right')\n",
    "plt.plot([0, 1], [0, 1],'r--')\n",
    "plt.xlim([0, 1])\n",
    "plt.ylim([0, 1])\n",
    "plt.ylabel('True Positive Rate')\n",
    "plt.xlabel('False Positive Rate')\n",
    "plt.show()"
   ]
  },
  {
   "cell_type": "code",
   "execution_count": 54,
   "metadata": {},
   "outputs": [
    {
     "name": "stdout",
     "output_type": "stream",
     "text": [
      "<class 'pandas.core.frame.DataFrame'>\n",
      "RangeIndex: 41188 entries, 0 to 41187\n",
      "Data columns (total 11 columns):\n",
      "age            41188 non-null int64\n",
      "poutcome       41188 non-null int32\n",
      "housing        41188 non-null int32\n",
      "marital        41188 non-null int32\n",
      "pdays          41188 non-null int64\n",
      "nr.employed    41188 non-null float64\n",
      "day_of_week    41188 non-null int32\n",
      "education      41188 non-null int32\n",
      "job            41188 non-null int32\n",
      "campaign       41188 non-null int64\n",
      "euribor3m      41188 non-null float64\n",
      "dtypes: float64(2), int32(6), int64(3)\n",
      "memory usage: 2.5 MB\n"
     ]
    }
   ],
   "source": [
    "X_feature_selection.info()"
   ]
  },
  {
   "cell_type": "code",
   "execution_count": 55,
   "metadata": {},
   "outputs": [],
   "source": [
    "Y_feature_selection=Y.copy"
   ]
  },
  {
   "cell_type": "code",
   "execution_count": 59,
   "metadata": {},
   "outputs": [
    {
     "ename": "TypeError",
     "evalue": "'method' object is not iterable",
     "output_type": "error",
     "traceback": [
      "\u001b[1;31m---------------------------------------------------------------------------\u001b[0m",
      "\u001b[1;31mTypeError\u001b[0m                                 Traceback (most recent call last)",
      "\u001b[1;32m<ipython-input-59-1941f90009d8>\u001b[0m in \u001b[0;36m<module>\u001b[1;34m()\u001b[0m\n\u001b[1;32m----> 1\u001b[1;33m \u001b[0mY_target\u001b[0m\u001b[1;33m=\u001b[0m\u001b[0mlist\u001b[0m\u001b[1;33m(\u001b[0m\u001b[0mY_feature_selection\u001b[0m\u001b[1;33m)\u001b[0m\u001b[1;33m\u001b[0m\u001b[0m\n\u001b[0m",
      "\u001b[1;31mTypeError\u001b[0m: 'method' object is not iterable"
     ]
    }
   ],
   "source": [
    "Y_target=list(Y_feature_selection)"
   ]
  },
  {
   "cell_type": "code",
   "execution_count": 50,
   "metadata": {},
   "outputs": [
    {
     "name": "stdout",
     "output_type": "stream",
     "text": [
      "<class 'pandas.core.frame.DataFrame'>\n",
      "RangeIndex: 41188 entries, 0 to 41187\n",
      "Data columns (total 11 columns):\n",
      "age            41188 non-null int64\n",
      "poutcome       41188 non-null int32\n",
      "housing        41188 non-null int32\n",
      "marital        41188 non-null int32\n",
      "pdays          41188 non-null int64\n",
      "nr.employed    41188 non-null float64\n",
      "day_of_week    41188 non-null int32\n",
      "education      41188 non-null int32\n",
      "job            41188 non-null int32\n",
      "campaign       41188 non-null int64\n",
      "euribor3m      41188 non-null float64\n",
      "dtypes: float64(2), int32(6), int64(3)\n",
      "memory usage: 2.5 MB\n"
     ]
    }
   ],
   "source": [
    "X_filter_random_forest.info()"
   ]
  },
  {
   "cell_type": "code",
   "execution_count": 53,
   "metadata": {},
   "outputs": [
    {
     "data": {
      "text/plain": [
       "25611    0\n",
       "26010    0\n",
       "40194    1\n",
       "297      0\n",
       "36344    0\n",
       "21806    0\n",
       "37395    1\n",
       "25863    0\n",
       "7393     0\n",
       "14697    0\n",
       "17537    0\n",
       "1595     0\n",
       "13720    0\n",
       "12258    0\n",
       "32042    0\n",
       "31118    1\n",
       "20444    0\n",
       "4216     0\n",
       "6347     0\n",
       "39226    1\n",
       "20441    0\n",
       "32051    0\n",
       "12588    0\n",
       "5656     0\n",
       "39224    1\n",
       "40890    0\n",
       "28259    0\n",
       "25726    0\n",
       "18238    0\n",
       "22196    0\n",
       "        ..\n",
       "1457     0\n",
       "235      0\n",
       "8135     1\n",
       "14910    0\n",
       "11727    0\n",
       "6532     0\n",
       "29       0\n",
       "13920    0\n",
       "8618     0\n",
       "17212    0\n",
       "5955     0\n",
       "18406    0\n",
       "15416    0\n",
       "29716    0\n",
       "32824    0\n",
       "2948     0\n",
       "6249     0\n",
       "35126    1\n",
       "22469    0\n",
       "522      0\n",
       "15913    0\n",
       "30274    1\n",
       "24607    0\n",
       "27529    0\n",
       "34253    0\n",
       "40205    0\n",
       "27316    0\n",
       "14392    0\n",
       "7494     0\n",
       "10747    0\n",
       "Name: y, Length: 32950, dtype: int32"
      ]
     },
     "execution_count": 53,
     "metadata": {},
     "output_type": "execute_result"
    }
   ],
   "source": [
    "y_train_stratify"
   ]
  },
  {
   "cell_type": "code",
   "execution_count": null,
   "metadata": {},
   "outputs": [],
   "source": [
    "from sklearn.ensemble import RandomForestClassifier\n",
    "clf_stratify = RandomForestClassifier(n_estimators=100, random_state=5, n_jobs=-1)\n",
    "clf_stratify.fit(X_train_stratify, y_train_stratify)"
   ]
  },
  {
   "cell_type": "code",
   "execution_count": 38,
   "metadata": {},
   "outputs": [
    {
     "data": {
      "text/plain": [
       "(32950, 19)"
      ]
     },
     "execution_count": 38,
     "metadata": {},
     "output_type": "execute_result"
    }
   ],
   "source": [
    "X_train_stratify.shape"
   ]
  },
  {
   "cell_type": "code",
   "execution_count": 39,
   "metadata": {},
   "outputs": [
    {
     "data": {
      "text/plain": [
       "(8238, 19)"
      ]
     },
     "execution_count": 39,
     "metadata": {},
     "output_type": "execute_result"
    }
   ],
   "source": [
    "X_test_stratify.shape"
   ]
  },
  {
   "cell_type": "code",
   "execution_count": 41,
   "metadata": {},
   "outputs": [
    {
     "data": {
      "text/plain": [
       "(32950,)"
      ]
     },
     "execution_count": 41,
     "metadata": {},
     "output_type": "execute_result"
    }
   ],
   "source": [
    "y_train_stratify.shape"
   ]
  },
  {
   "cell_type": "code",
   "execution_count": 42,
   "metadata": {},
   "outputs": [
    {
     "data": {
      "text/plain": [
       "(8238,)"
      ]
     },
     "execution_count": 42,
     "metadata": {},
     "output_type": "execute_result"
    }
   ],
   "source": [
    "y_test_stratify.shape"
   ]
  },
  {
   "cell_type": "code",
   "execution_count": null,
   "metadata": {},
   "outputs": [],
   "source": []
  }
 ],
 "metadata": {
  "kernelspec": {
   "display_name": "Python 3",
   "language": "python",
   "name": "python3"
  },
  "language_info": {
   "codemirror_mode": {
    "name": "ipython",
    "version": 3
   },
   "file_extension": ".py",
   "mimetype": "text/x-python",
   "name": "python",
   "nbconvert_exporter": "python",
   "pygments_lexer": "ipython3",
   "version": "3.7.0"
  }
 },
 "nbformat": 4,
 "nbformat_minor": 2
}
