{
 "cells": [
  {
   "cell_type": "markdown",
   "metadata": {
    "collapsed": true
   },
   "source": [
    "# Wrapper Method Feature Selection"
   ]
  },
  {
   "cell_type": "code",
   "execution_count": 1,
   "metadata": {},
   "outputs": [],
   "source": [
    "import numpy as np # linear algebra\n",
    "import pandas as pd # data processing, CSV file I/O (e.g. pd.read_csv)\n",
    "from sklearn.model_selection import train_test_split"
   ]
  },
  {
   "cell_type": "code",
   "execution_count": 3,
   "metadata": {},
   "outputs": [],
   "source": [
    "#Loading House prices dataset.\n",
    "df=pd.read_csv(r'C:\\Users\\divesh.kubal\\PycharmProjects\\OCR_Layer\\house_price_data.csv')"
   ]
  },
  {
   "cell_type": "code",
   "execution_count": 4,
   "metadata": {},
   "outputs": [
    {
     "data": {
      "text/plain": [
       "(1460, 81)"
      ]
     },
     "execution_count": 4,
     "metadata": {},
     "output_type": "execute_result"
    }
   ],
   "source": [
    "df.shape"
   ]
  },
  {
   "cell_type": "code",
   "execution_count": 5,
   "metadata": {},
   "outputs": [
    {
     "name": "stdout",
     "output_type": "stream",
     "text": [
      "<class 'pandas.core.frame.DataFrame'>\n",
      "RangeIndex: 1460 entries, 0 to 1459\n",
      "Data columns (total 81 columns):\n",
      "Id               1460 non-null int64\n",
      "MSSubClass       1460 non-null int64\n",
      "MSZoning         1460 non-null object\n",
      "LotFrontage      1201 non-null float64\n",
      "LotArea          1460 non-null int64\n",
      "Street           1460 non-null object\n",
      "Alley            91 non-null object\n",
      "LotShape         1460 non-null object\n",
      "LandContour      1460 non-null object\n",
      "Utilities        1460 non-null object\n",
      "LotConfig        1460 non-null object\n",
      "LandSlope        1460 non-null object\n",
      "Neighborhood     1460 non-null object\n",
      "Condition1       1460 non-null object\n",
      "Condition2       1460 non-null object\n",
      "BldgType         1460 non-null object\n",
      "HouseStyle       1460 non-null object\n",
      "OverallQual      1460 non-null int64\n",
      "OverallCond      1460 non-null int64\n",
      "YearBuilt        1460 non-null int64\n",
      "YearRemodAdd     1460 non-null int64\n",
      "RoofStyle        1460 non-null object\n",
      "RoofMatl         1460 non-null object\n",
      "Exterior1st      1460 non-null object\n",
      "Exterior2nd      1460 non-null object\n",
      "MasVnrType       1452 non-null object\n",
      "MasVnrArea       1452 non-null float64\n",
      "ExterQual        1460 non-null object\n",
      "ExterCond        1460 non-null object\n",
      "Foundation       1460 non-null object\n",
      "BsmtQual         1423 non-null object\n",
      "BsmtCond         1423 non-null object\n",
      "BsmtExposure     1422 non-null object\n",
      "BsmtFinType1     1423 non-null object\n",
      "BsmtFinSF1       1460 non-null int64\n",
      "BsmtFinType2     1422 non-null object\n",
      "BsmtFinSF2       1460 non-null int64\n",
      "BsmtUnfSF        1460 non-null int64\n",
      "TotalBsmtSF      1460 non-null int64\n",
      "Heating          1460 non-null object\n",
      "HeatingQC        1460 non-null object\n",
      "CentralAir       1460 non-null object\n",
      "Electrical       1459 non-null object\n",
      "1stFlrSF         1460 non-null int64\n",
      "2ndFlrSF         1460 non-null int64\n",
      "LowQualFinSF     1460 non-null int64\n",
      "GrLivArea        1460 non-null int64\n",
      "BsmtFullBath     1460 non-null int64\n",
      "BsmtHalfBath     1460 non-null int64\n",
      "FullBath         1460 non-null int64\n",
      "HalfBath         1460 non-null int64\n",
      "BedroomAbvGr     1460 non-null int64\n",
      "KitchenAbvGr     1460 non-null int64\n",
      "KitchenQual      1460 non-null object\n",
      "TotRmsAbvGrd     1460 non-null int64\n",
      "Functional       1460 non-null object\n",
      "Fireplaces       1460 non-null int64\n",
      "FireplaceQu      770 non-null object\n",
      "GarageType       1379 non-null object\n",
      "GarageYrBlt      1379 non-null float64\n",
      "GarageFinish     1379 non-null object\n",
      "GarageCars       1460 non-null int64\n",
      "GarageArea       1460 non-null int64\n",
      "GarageQual       1379 non-null object\n",
      "GarageCond       1379 non-null object\n",
      "PavedDrive       1460 non-null object\n",
      "WoodDeckSF       1460 non-null int64\n",
      "OpenPorchSF      1460 non-null int64\n",
      "EnclosedPorch    1460 non-null int64\n",
      "3SsnPorch        1460 non-null int64\n",
      "ScreenPorch      1460 non-null int64\n",
      "PoolArea         1460 non-null int64\n",
      "PoolQC           7 non-null object\n",
      "Fence            281 non-null object\n",
      "MiscFeature      54 non-null object\n",
      "MiscVal          1460 non-null int64\n",
      "MoSold           1460 non-null int64\n",
      "YrSold           1460 non-null int64\n",
      "SaleType         1460 non-null object\n",
      "SaleCondition    1460 non-null object\n",
      "SalePrice        1460 non-null int64\n",
      "dtypes: float64(3), int64(35), object(43)\n",
      "memory usage: 924.0+ KB\n"
     ]
    }
   ],
   "source": [
    "df.info()"
   ]
  },
  {
   "cell_type": "code",
   "execution_count": 6,
   "metadata": {},
   "outputs": [],
   "source": [
    "#Feature selection should be done after data preprocessing.\n",
    "#Ideally  all the categorical variables should be encoded into numbers, so that we can assess how deterministic they are for target.\n",
    "#Currently I will be dealling with numerical columns only.\n",
    "colType = ['int64','float64']\n",
    "#Select the columns which are either int64 or float64.\n",
    "numCols=list(df.select_dtypes(include=colType).columns)\n",
    "#Assigning numerical columns from df to data variable. We can use the same variable as well.\n",
    "data=df[numCols]"
   ]
  },
  {
   "cell_type": "code",
   "execution_count": 7,
   "metadata": {},
   "outputs": [
    {
     "data": {
      "text/plain": [
       "(1460, 38)"
      ]
     },
     "execution_count": 7,
     "metadata": {},
     "output_type": "execute_result"
    }
   ],
   "source": [
    "data.shape"
   ]
  },
  {
   "cell_type": "code",
   "execution_count": 8,
   "metadata": {},
   "outputs": [],
   "source": [
    "#Lets split the data in training set and test set.\n",
    "X_train,X_test,y_train,y_test=train_test_split(data.drop('SalePrice',axis=1),data['SalePrice'],test_size=.2,random_state=1)"
   ]
  },
  {
   "cell_type": "code",
   "execution_count": 9,
   "metadata": {},
   "outputs": [
    {
     "name": "stdout",
     "output_type": "stream",
     "text": [
      "Correlated columns: {'GarageArea', 'GarageYrBlt', '1stFlrSF', 'TotRmsAbvGrd'}\n"
     ]
    }
   ],
   "source": [
    "def correlation(dataset,threshold):\n",
    "    col_corr=set() # set will contains unique values.\n",
    "    corr_matrix=dataset.corr() #finding the correlation between columns.\n",
    "    for i in range(len(corr_matrix.columns)): #number of columns\n",
    "        for j in range(i):\n",
    "            if abs(corr_matrix.iloc[i,j])>threshold: #checking the correlation between columns.\n",
    "                colName=corr_matrix.columns[i] #getting the column name\n",
    "                col_corr.add(colName) #adding the correlated column name heigher than threshold value.\n",
    "    return col_corr #returning set of column names\n",
    "col=correlation(X_train,0.8)\n",
    "print('Correlated columns:',col)    "
   ]
  },
  {
   "cell_type": "code",
   "execution_count": 10,
   "metadata": {},
   "outputs": [
    {
     "data": {
      "text/plain": [
       "((1168, 33), (292, 33))"
      ]
     },
     "execution_count": 10,
     "metadata": {},
     "output_type": "execute_result"
    }
   ],
   "source": [
    "#remove correlated columns\n",
    "X_train.drop(columns=col,axis=1,inplace=True)\n",
    "X_test.drop(columns=col,axis=1,inplace=True)\n",
    "#lets check the shape of training set and test set.\n",
    "X_train.shape,X_test.shape"
   ]
  },
  {
   "cell_type": "code",
   "execution_count": 12,
   "metadata": {},
   "outputs": [],
   "source": [
    "#Filling null values with 0.\n",
    "X_train.fillna(0,inplace=True)"
   ]
  },
  {
   "cell_type": "code",
   "execution_count": 13,
   "metadata": {},
   "outputs": [
    {
     "data": {
      "text/plain": [
       "0"
      ]
     },
     "execution_count": 13,
     "metadata": {},
     "output_type": "execute_result"
    }
   ],
   "source": [
    "#Checking if there is null values.\n",
    "X_train.isnull().sum().max()"
   ]
  },
  {
   "cell_type": "markdown",
   "metadata": {},
   "source": [
    "# Forward feature selection"
   ]
  },
  {
   "cell_type": "code",
   "execution_count": 15,
   "metadata": {},
   "outputs": [
    {
     "name": "stderr",
     "output_type": "stream",
     "text": [
      "C:\\Users\\divesh.kubal\\AppData\\Local\\Programs\\Python\\Python36\\lib\\site-packages\\sklearn\\ensemble\\weight_boosting.py:29: DeprecationWarning: numpy.core.umath_tests is an internal NumPy module and should not be imported. It will be removed in a future NumPy release.\n",
      "  from numpy.core.umath_tests import inner1d\n",
      "[Parallel(n_jobs=-1)]: Done  33 out of  33 | elapsed:    3.8s finished\n",
      "\n",
      "[2019-03-15 16:28:53] Features: 1/10 -- score: 0.6525384968803336[Parallel(n_jobs=-1)]: Done  32 out of  32 | elapsed:    3.9s finished\n",
      "\n",
      "[2019-03-15 16:28:57] Features: 2/10 -- score: 0.7138199435294974[Parallel(n_jobs=-1)]: Done  31 out of  31 | elapsed:    3.9s finished\n",
      "\n",
      "[2019-03-15 16:29:02] Features: 3/10 -- score: 0.7232702143057248[Parallel(n_jobs=-1)]: Done  30 out of  30 | elapsed:    3.9s finished\n",
      "\n",
      "[2019-03-15 16:29:06] Features: 4/10 -- score: 0.744480578588591[Parallel(n_jobs=-1)]: Done  29 out of  29 | elapsed:    4.1s finished\n",
      "\n",
      "[2019-03-15 16:29:10] Features: 5/10 -- score: 0.7901799222600141[Parallel(n_jobs=-1)]: Done  28 out of  28 | elapsed:    4.3s finished\n",
      "\n",
      "[2019-03-15 16:29:15] Features: 6/10 -- score: 0.8167183166186268[Parallel(n_jobs=-1)]: Done  27 out of  27 | elapsed:    4.2s finished\n",
      "\n",
      "[2019-03-15 16:29:19] Features: 7/10 -- score: 0.8310190208470505[Parallel(n_jobs=-1)]: Done  26 out of  26 | elapsed:    4.3s finished\n",
      "\n",
      "[2019-03-15 16:29:24] Features: 8/10 -- score: 0.8316366597570395[Parallel(n_jobs=-1)]: Done  25 out of  25 | elapsed:    4.3s finished\n",
      "\n",
      "[2019-03-15 16:29:28] Features: 9/10 -- score: 0.8251666805727677[Parallel(n_jobs=-1)]: Done  24 out of  24 | elapsed:    4.3s finished\n",
      "\n",
      "[2019-03-15 16:29:33] Features: 10/10 -- score: 0.8259260880913054"
     ]
    },
    {
     "data": {
      "text/plain": [
       "SequentialFeatureSelector(clone_estimator=True, cv=5,\n",
       "             estimator=RandomForestRegressor(bootstrap=True, criterion='mse', max_depth=None,\n",
       "           max_features='auto', max_leaf_nodes=None,\n",
       "           min_impurity_decrease=0.0, min_impurity_split=None,\n",
       "           min_samples_leaf=1, min_samples_split=2,\n",
       "           min_weight_fraction_leaf=0.0, n_estimators=10, n_jobs=1,\n",
       "           oob_score=False, random_state=None, verbose=0, warm_start=False),\n",
       "             floating=False, forward=True, k_features=10, n_jobs=-1,\n",
       "             pre_dispatch='2*n_jobs', scoring='r2', verbose=2)"
      ]
     },
     "execution_count": 15,
     "metadata": {},
     "output_type": "execute_result"
    }
   ],
   "source": [
    "from mlxtend.feature_selection import SequentialFeatureSelector as sfs\n",
    "#I am going to use RandomForestRegressor algoritham as an estimator. Your can select other regression alogritham as well.\n",
    "from sklearn.ensemble import RandomForestRegressor\n",
    "#k_features=10 (It will get top 10 features best suited for prediction)\n",
    "#forward=True (Forward feature selection model)\n",
    "#verbose=2 (It will show details output as shown below.)\n",
    "#cv=5 (Kfold cross valiation: it will split the training set in 5 set and 4 will be using for training the model and 1 will using as validation)\n",
    "#n_jobs=-1 (Number of cores it will use for execution.-1 means it will use all the cores of CPU for execution.)\n",
    "#scoring='r2'(R-squared is a statistical measure of how close the data are to the fitted regression line)\n",
    "model=sfs(RandomForestRegressor(),k_features=10,forward=True,verbose=2,cv=5,n_jobs=-1,scoring='r2')\n",
    "model.fit(X_train,y_train)"
   ]
  },
  {
   "cell_type": "code",
   "execution_count": 16,
   "metadata": {},
   "outputs": [
    {
     "data": {
      "text/plain": [
       "(1, 4, 5, 7, 9, 10, 15, 16, 22, 23)"
      ]
     },
     "execution_count": 16,
     "metadata": {},
     "output_type": "execute_result"
    }
   ],
   "source": [
    "#Get the selected feature index.\n",
    "model.k_feature_idx_"
   ]
  },
  {
   "cell_type": "code",
   "execution_count": 17,
   "metadata": {},
   "outputs": [
    {
     "data": {
      "text/plain": [
       "('MSSubClass',\n",
       " 'OverallQual',\n",
       " 'OverallCond',\n",
       " 'YearRemodAdd',\n",
       " 'BsmtFinSF1',\n",
       " 'BsmtFinSF2',\n",
       " 'GrLivArea',\n",
       " 'BsmtFullBath',\n",
       " 'Fireplaces',\n",
       " 'GarageCars')"
      ]
     },
     "execution_count": 17,
     "metadata": {},
     "output_type": "execute_result"
    }
   ],
   "source": [
    "#Get the column name for the selected feature.\n",
    "model.k_feature_names_"
   ]
  },
  {
   "cell_type": "markdown",
   "metadata": {},
   "source": [
    "# Backward Feature Selection"
   ]
  },
  {
   "cell_type": "code",
   "execution_count": 18,
   "metadata": {},
   "outputs": [
    {
     "name": "stderr",
     "output_type": "stream",
     "text": [
      "[Parallel(n_jobs=-1)]: Done  33 out of  33 | elapsed:    6.8s finished\n",
      "\n",
      "[2019-03-15 16:37:44] Features: 32/10 -- score: 0.8414892484492942[Parallel(n_jobs=-1)]: Done  32 out of  32 | elapsed:    6.6s finished\n",
      "\n",
      "[2019-03-15 16:37:51] Features: 31/10 -- score: 0.8322308983930305[Parallel(n_jobs=-1)]: Done  31 out of  31 | elapsed:    6.2s finished\n",
      "\n",
      "[2019-03-15 16:37:58] Features: 30/10 -- score: 0.8378245149167822[Parallel(n_jobs=-1)]: Done  30 out of  30 | elapsed:    6.2s finished\n",
      "\n",
      "[2019-03-15 16:38:04] Features: 29/10 -- score: 0.8338692358294433[Parallel(n_jobs=-1)]: Done  29 out of  29 | elapsed:    6.5s finished\n",
      "\n",
      "[2019-03-15 16:38:11] Features: 28/10 -- score: 0.8328731570959986[Parallel(n_jobs=-1)]: Done  28 out of  28 | elapsed:    6.6s finished\n",
      "\n",
      "[2019-03-15 16:38:18] Features: 27/10 -- score: 0.8322616199110943[Parallel(n_jobs=-1)]: Done  27 out of  27 | elapsed:    5.8s finished\n",
      "\n",
      "[2019-03-15 16:38:24] Features: 26/10 -- score: 0.8333262784943309[Parallel(n_jobs=-1)]: Done  26 out of  26 | elapsed:    5.5s finished\n",
      "\n",
      "[2019-03-15 16:38:30] Features: 25/10 -- score: 0.8330074520668991[Parallel(n_jobs=-1)]: Done  25 out of  25 | elapsed:    5.5s finished\n",
      "\n",
      "[2019-03-15 16:38:35] Features: 24/10 -- score: 0.8309296712011476[Parallel(n_jobs=-1)]: Done  24 out of  24 | elapsed:    5.4s finished\n",
      "\n",
      "[2019-03-15 16:38:41] Features: 23/10 -- score: 0.8283478784010019[Parallel(n_jobs=-1)]: Done  23 out of  23 | elapsed:    5.1s finished\n",
      "\n",
      "[2019-03-15 16:38:47] Features: 22/10 -- score: 0.831621450232442[Parallel(n_jobs=-1)]: Done  22 out of  22 | elapsed:    4.9s finished\n",
      "\n",
      "[2019-03-15 16:38:52] Features: 21/10 -- score: 0.8314052807918026[Parallel(n_jobs=-1)]: Done  21 out of  21 | elapsed:    4.9s finished\n",
      "\n",
      "[2019-03-15 16:38:57] Features: 20/10 -- score: 0.8304600410930666[Parallel(n_jobs=-1)]: Done  20 out of  20 | elapsed:    4.8s finished\n",
      "\n",
      "[2019-03-15 16:39:02] Features: 19/10 -- score: 0.8367886602790395[Parallel(n_jobs=-1)]: Done  19 out of  19 | elapsed:    4.5s finished\n",
      "\n",
      "[2019-03-15 16:39:07] Features: 18/10 -- score: 0.845355277454041[Parallel(n_jobs=-1)]: Done  18 out of  18 | elapsed:    4.5s finished\n",
      "\n",
      "[2019-03-15 16:39:12] Features: 17/10 -- score: 0.8368529748994021[Parallel(n_jobs=-1)]: Done  17 out of  17 | elapsed:    4.4s finished\n",
      "\n",
      "[2019-03-15 16:39:16] Features: 16/10 -- score: 0.8348367298946933[Parallel(n_jobs=-1)]: Done  16 out of  16 | elapsed:    4.3s finished\n",
      "\n",
      "[2019-03-15 16:39:21] Features: 15/10 -- score: 0.8319370944287694[Parallel(n_jobs=-1)]: Done  15 out of  15 | elapsed:    4.1s finished\n",
      "\n",
      "[2019-03-15 16:39:25] Features: 14/10 -- score: 0.8388995495986837[Parallel(n_jobs=-1)]: Done  14 out of  14 | elapsed:    4.0s finished\n",
      "\n",
      "[2019-03-15 16:39:30] Features: 13/10 -- score: 0.8351492808933362[Parallel(n_jobs=-1)]: Done  13 out of  13 | elapsed:    4.0s remaining:    0.0s\n",
      "[Parallel(n_jobs=-1)]: Done  13 out of  13 | elapsed:    4.0s finished\n",
      "\n",
      "[2019-03-15 16:39:34] Features: 12/10 -- score: 0.8360077605752974[Parallel(n_jobs=-1)]: Done  12 out of  12 | elapsed:    4.0s remaining:    0.0s\n",
      "[Parallel(n_jobs=-1)]: Done  12 out of  12 | elapsed:    4.0s finished\n",
      "\n",
      "[2019-03-15 16:39:38] Features: 11/10 -- score: 0.8271594600848777[Parallel(n_jobs=-1)]: Done  11 out of  11 | elapsed:    3.7s finished\n",
      "\n",
      "[2019-03-15 16:39:42] Features: 10/10 -- score: 0.8252905014331336"
     ]
    },
    {
     "data": {
      "text/plain": [
       "SequentialFeatureSelector(clone_estimator=True, cv=5,\n",
       "             estimator=RandomForestRegressor(bootstrap=True, criterion='mse', max_depth=None,\n",
       "           max_features='auto', max_leaf_nodes=None,\n",
       "           min_impurity_decrease=0.0, min_impurity_split=None,\n",
       "           min_samples_leaf=1, min_samples_split=2,\n",
       "           min_weight_fraction_leaf=0.0, n_estimators=10, n_jobs=1,\n",
       "           oob_score=False, random_state=None, verbose=0, warm_start=False),\n",
       "             floating=False, forward=False, k_features=10, n_jobs=-1,\n",
       "             pre_dispatch='2*n_jobs', scoring='r2', verbose=2)"
      ]
     },
     "execution_count": 18,
     "metadata": {},
     "output_type": "execute_result"
    }
   ],
   "source": [
    "from mlxtend.feature_selection import SequentialFeatureSelector as sfs\n",
    "from sklearn.ensemble import RandomForestRegressor\n",
    "#k_features=10 (It will get top 10 features best suited for prediction)\n",
    "#forward=False (Backward feature selection model)\n",
    "#verbose=2 (It will show details output as shown below.)\n",
    "#cv=5 (Kfold cross valiation: it will split the training set in 5 set and 4 will be using for training the model and 1 will using as validation)\n",
    "#n_jobs=-1 (Number of cores it will use for execution.-1 means it will use all the cores of CPU for execution.)\n",
    "#scoring='r2'(R-squared is a statistical measure of how close the data are to the fitted regression line)\n",
    "backwardModel=sfs(RandomForestRegressor(),k_features=10,forward=False,verbose=2,cv=5,n_jobs=-1,scoring='r2')\n",
    "#We will convert our training data into numpy array. If we will not convert it, model is not able to read some of the column names. \n",
    "backwardModel.fit(np.array(X_train),y_train)"
   ]
  },
  {
   "cell_type": "code",
   "execution_count": 19,
   "metadata": {},
   "outputs": [
    {
     "data": {
      "text/plain": [
       "(0, 1, 4, 5, 7, 9, 12, 15, 23, 24)"
      ]
     },
     "execution_count": 19,
     "metadata": {},
     "output_type": "execute_result"
    }
   ],
   "source": [
    "#Get the selected feature index.\n",
    "backwardModel.k_feature_idx_"
   ]
  },
  {
   "cell_type": "code",
   "execution_count": 20,
   "metadata": {},
   "outputs": [
    {
     "data": {
      "text/plain": [
       "Index(['Id', 'MSSubClass', 'OverallQual', 'OverallCond', 'YearRemodAdd',\n",
       "       'BsmtFinSF1', 'TotalBsmtSF', 'GrLivArea', 'GarageCars', 'WoodDeckSF'],\n",
       "      dtype='object')"
      ]
     },
     "execution_count": 20,
     "metadata": {},
     "output_type": "execute_result"
    }
   ],
   "source": [
    "#Get the column name for the selected feature.\n",
    "X_train.columns[list(backwardModel.k_feature_idx_)]"
   ]
  },
  {
   "cell_type": "code",
   "execution_count": null,
   "metadata": {},
   "outputs": [],
   "source": []
  }
 ],
 "metadata": {
  "kernelspec": {
   "display_name": "Python 3",
   "language": "python",
   "name": "python3"
  },
  "language_info": {
   "codemirror_mode": {
    "name": "ipython",
    "version": 3
   },
   "file_extension": ".py",
   "mimetype": "text/x-python",
   "name": "python",
   "nbconvert_exporter": "python",
   "pygments_lexer": "ipython3",
   "version": "3.6.0"
  }
 },
 "nbformat": 4,
 "nbformat_minor": 1
}
